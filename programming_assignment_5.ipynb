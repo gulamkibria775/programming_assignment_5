{
 "cells": [
  {
   "cell_type": "markdown",
   "metadata": {},
   "source": [
    "1. Write a Python Program to Find LCM?\n",
    "Ans:-"
   ]
  },
  {
   "cell_type": "code",
   "execution_count": 2,
   "metadata": {},
   "outputs": [
    {
     "name": "stdout",
     "output_type": "stream",
     "text": [
      "Enter your first number:20\n",
      "Enter your sceond number:30\n"
     ]
    },
    {
     "data": {
      "text/plain": [
       "40"
      ]
     },
     "execution_count": 2,
     "metadata": {},
     "output_type": "execute_result"
    }
   ],
   "source": [
    "def compute_lcm(x,y):\n",
    "    if x>y:\n",
    "        greater =x\n",
    "    else:\n",
    "        greater =y\n",
    "        \n",
    "    while(True):\n",
    "        if((greater % x==0) and (greater%y)):\n",
    "            lcm=greater\n",
    "            break\n",
    "        greater +=1\n",
    "    return greater\n",
    "\n",
    "x=int(input(\"Enter your first number:\"))\n",
    "y=int(input(\"Enter your sceond number:\"))\n",
    "compute_lcm(x,y)"
   ]
  },
  {
   "cell_type": "markdown",
   "metadata": {},
   "source": [
    "2. Write a Python Program to Find HCF?\n",
    "Ans:-"
   ]
  },
  {
   "cell_type": "code",
   "execution_count": 3,
   "metadata": {},
   "outputs": [
    {
     "name": "stdout",
     "output_type": "stream",
     "text": [
      "Enter your first number:30\n",
      "Enter your sceond number:50\n"
     ]
    },
    {
     "data": {
      "text/plain": [
       "10"
      ]
     },
     "execution_count": 3,
     "metadata": {},
     "output_type": "execute_result"
    }
   ],
   "source": [
    "def compute_hcf(x,y):\n",
    "    if x>y:\n",
    "        smaller=y\n",
    "    if y>x:\n",
    "        smaller=x\n",
    "    for i in range(1,smaller+1):\n",
    "        if((x%i==0 and y%i==0)):\n",
    "            hcf=i\n",
    "            \n",
    "    return hcf        \n",
    "\n",
    "x=int(input(\"Enter your first number:\"))\n",
    "y=int(input(\"Enter your sceond number:\"))\n",
    "compute_hcf(x,y)"
   ]
  },
  {
   "cell_type": "markdown",
   "metadata": {},
   "source": [
    "3. Write a Python Program to Convert Decimal to Binary, Octal and Hexadecimal?\n",
    "Ans:-"
   ]
  },
  {
   "cell_type": "code",
   "execution_count": 6,
   "metadata": {},
   "outputs": [
    {
     "name": "stdout",
     "output_type": "stream",
     "text": [
      "Enter your dec number:10\n",
      "binary :0b1010  , oct :0o12   , hexadecimal : 0xa\n"
     ]
    }
   ],
   "source": [
    "dec=int(input(\"Enter your dec number:\"))\n",
    "\n",
    "print(\"binary :{0}  , oct :{1}   , hexadecimal : {2}\".format(bin(dec),oct(dec),hex(dec)))"
   ]
  },
  {
   "cell_type": "markdown",
   "metadata": {},
   "source": [
    "4. Write a Python Program To Find ASCII value of a character?\n",
    "Ans:-"
   ]
  },
  {
   "cell_type": "code",
   "execution_count": 10,
   "metadata": {},
   "outputs": [
    {
     "name": "stdout",
     "output_type": "stream",
     "text": [
      "Enter your character:?\n",
      "The ASCII vale of 63\n"
     ]
    }
   ],
   "source": [
    "cha=input(\"Enter your character:\")\n",
    "\n",
    "print(\"The ASCII vale of {0}\".format(ord(cha)))"
   ]
  },
  {
   "cell_type": "markdown",
   "metadata": {},
   "source": [
    "5. Write a Python Program to Make a Simple Calculator with 4 basic mathematical operations?\n",
    "Ans:-"
   ]
  },
  {
   "cell_type": "code",
   "execution_count": 18,
   "metadata": {},
   "outputs": [
    {
     "name": "stdout",
     "output_type": "stream",
     "text": [
      "Select orperation:\n",
      "1 . addition\n",
      "2 . subtraction\n",
      "3 . multiplication\n",
      "4 . dividation\n",
      "Enterd your choice:3\n",
      "Enter your first number:4\n",
      "Enter your second number:4\n",
      "4.0 * 4.0 = 16.0\n",
      "Again calculation (yes/no)?No\n"
     ]
    }
   ],
   "source": [
    "def add(x,y):\n",
    "    return x+y\n",
    "\n",
    "def sub(x,y):\n",
    "    return x-y\n",
    "def mul(x,y):\n",
    "    return x*y\n",
    "def div(x,y):\n",
    "    return x/y\n",
    "\n",
    "\n",
    "print(\"Select orperation:\")\n",
    "print(\"1 . addition\")\n",
    "print(\"2 . subtraction\")\n",
    "print(\"3 . multiplication\")\n",
    "print(\"4 . dividation\")\n",
    "\n",
    "while True:\n",
    "    choice=int(input(\"Enterd your choice:\"))\n",
    "    if choice in (1,2,3,4):\n",
    "        num1=float(input(\"Enter your first number:\"))\n",
    "        num2=float(input(\"Enter your second number:\"))\n",
    "        if choice == 1:\n",
    "            print(num1,\"+\",num2,\"=\", add(num1,num2))\n",
    "        if choice == 2:\n",
    "            print(num1,\"-\",num2,\"=\", sub(num1,num2))\n",
    "        if choice ==3:\n",
    "            print(num1,\"*\",num2,\"=\", mul(num1,num2))   \n",
    "        if choice ==4:\n",
    "            print(num1,\"/\",num2,\"=\", div(num1,num2))    \n",
    "        again=input(\"Again calculation (yes/no)?\")\n",
    "        if again == \"no\" or again==\"NO\" or again == \"No\":\n",
    "            break\n",
    "    else:\n",
    "        print(\"invalid input\")"
   ]
  },
  {
   "cell_type": "code",
   "execution_count": null,
   "metadata": {},
   "outputs": [],
   "source": []
  }
 ],
 "metadata": {
  "kernelspec": {
   "display_name": "Python 3",
   "language": "python",
   "name": "python3"
  },
  "language_info": {
   "codemirror_mode": {
    "name": "ipython",
    "version": 3
   },
   "file_extension": ".py",
   "mimetype": "text/x-python",
   "name": "python",
   "nbconvert_exporter": "python",
   "pygments_lexer": "ipython3",
   "version": "3.8.5"
  }
 },
 "nbformat": 4,
 "nbformat_minor": 4
}
